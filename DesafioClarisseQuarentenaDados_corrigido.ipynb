{
  "nbformat": 4,
  "nbformat_minor": 0,
  "metadata": {
    "colab": {
      "name": "DesafioClarisseQuarentenaDados_corrigido.ipynb",
      "provenance": [],
      "machine_shape": "hm"
    },
    "kernelspec": {
      "name": "python3",
      "display_name": "Python 3"
    }
  },
  "cells": [
    {
      "cell_type": "code",
      "metadata": {
        "id": "91eAeDAVjWYc",
        "colab_type": "code",
        "colab": {}
      },
      "source": [
        "import pandas as pd\n",
        "import numpy as np\n",
        "\n",
        "URI_TREINO = \"https://github.com/tgcsantos/quaretenadados/blob/master/DADOS_TREINO.csv?raw=true\"\n",
        "URI_TESTE = \"https://github.com/tgcsantos/quaretenadados/raw/master/DADOS_TESTE.csv\"\n",
        "URI_DESAFIOQT = \"https://github.com/tgcsantos/quaretenadados/raw/master/DESAFIOQT.csv\"\n",
        "\n",
        "dados_treino = pd.read_csv(URI_TREINO)\n",
        "dados_teste = pd.read_csv(URI_TESTE)\n",
        "dados_desafioqt = pd.read_csv(URI_DESAFIOQT)\n",
        "\n",
        "erro_treino = \"Erro ao carregar dados de treino\"\n",
        "erro_teste = \"Erro ao carregar dados de teste\"\n",
        "erro_desafioqt = \"Erro ao carregar dados de submissão\"\n",
        "\n",
        "assert dados_treino.shape == (150000, 5), erro_treino\n",
        "assert dados_teste.shape == (20000, 5), erro_teste\n",
        "assert dados_desafioqt.shape == (10000, 5), erro_desafioqt"
      ],
      "execution_count": 0,
      "outputs": []
    },
    {
      "cell_type": "code",
      "metadata": {
        "id": "-EC0g8Tajerg",
        "colab_type": "code",
        "colab": {}
      },
      "source": [
        "coluna_label = 'NU_NOTA_LC'\n",
        "coluna_features = ['NU_NOTA_CN', 'NU_NOTA_CH', 'NU_NOTA_MT', 'NU_NOTA_REDACAO']\n",
        "\n",
        "X_treino = dados_treino[coluna_features].to_numpy()\n",
        "Y_treino = dados_treino[coluna_label].to_numpy()\n",
        "X_teste = dados_teste[coluna_features].to_numpy()\n",
        "Y_teste = dados_teste[coluna_label].to_numpy()"
      ],
      "execution_count": 0,
      "outputs": []
    },
    {
      "cell_type": "code",
      "metadata": {
        "id": "69UKGmAejhju",
        "colab_type": "code",
        "outputId": "daae0d0a-ea7b-4af6-bf10-0efd1f48c02a",
        "colab": {
          "base_uri": "https://localhost:8080/",
          "height": 34
        }
      },
      "source": [
        "#Exemplo de classificação com Dummy\n",
        "from sklearn.dummy import DummyRegressor\n",
        "from sklearn.metrics import mean_squared_error\n",
        "\n",
        "modelo_dummy = DummyRegressor()\n",
        "modelo_dummy.fit(X_treino, Y_treino)\n",
        "dummy_predicoes = modelo_dummy.predict(X_teste)\n",
        "\n",
        "avaliacao_dummy = mean_squared_error(Y_teste, dummy_predicoes)\n",
        "\n",
        "print(f\"Minha avaliação nos dados de teste foi de {avaliacao_dummy}\")"
      ],
      "execution_count": 36,
      "outputs": [
        {
          "output_type": "stream",
          "text": [
            "Minha avaliação nos dados de teste foi de 5219.286870186777\n"
          ],
          "name": "stdout"
        }
      ]
    },
    {
      "cell_type": "code",
      "metadata": {
        "id": "TK90EXMn2ds9",
        "colab_type": "code",
        "colab": {}
      },
      "source": [
        "#aplicando o pre-processamento\n",
        "from sklearn.preprocessing import RobustScaler\n",
        "scaler = RobustScaler()\n",
        "scaler.fit(X_treino)  # Don't cheat - fit only on training data\n",
        "X_treino = scaler.transform(X_treino)\n",
        "X_teste = scaler.transform(X_teste)  # apply same transformation to test data"
      ],
      "execution_count": 0,
      "outputs": []
    },
    {
      "cell_type": "code",
      "metadata": {
        "id": "BFqvIlyMlD5Y",
        "colab_type": "code",
        "outputId": "9c411e4b-8dc0-434e-bd80-b530a69dece8",
        "colab": {
          "base_uri": "https://localhost:8080/",
          "height": 85
        }
      },
      "source": [
        "#aplicando o modelo de neural_network\n",
        "#valor a bater 2044.2661201991486\n",
        "from sklearn.neural_network import MLPRegressor\n",
        "\n",
        "modelo = MLPRegressor(learning_rate='adaptive', \n",
        "                      random_state=0, \n",
        "                      solver='sgd',\n",
        "                      alpha=0.000001)\n",
        "modelo.fit(X_treino, Y_treino)\n",
        "predicoes_modelo= modelo.predict(X_teste)\n",
        "avaliacao = mean_squared_error(Y_teste, predicoes_modelo)\n",
        "print(f\"Minha avaliação nos dados de teste foi de {avaliacao}\")\n",
        "print(modelo.score(X_teste, Y_teste) * 100)\n",
        "print(predicoes_modelo[:5].round(1))\n",
        "print(Y_teste[:5])"
      ],
      "execution_count": 38,
      "outputs": [
        {
          "output_type": "stream",
          "text": [
            "Minha avaliação nos dados de teste foi de 2043.1717875163247\n",
            "60.85126727402537\n",
            "[528.3 457.9 646.2 512.1 549.2]\n",
            "[550.  406.3 652.3 469.1 580.5]\n"
          ],
          "name": "stdout"
        }
      ]
    },
    {
      "cell_type": "code",
      "metadata": {
        "id": "aN66Dwkhrg6h",
        "colab_type": "code",
        "colab": {}
      },
      "source": [
        "from google.colab import files\n",
        "\n",
        "MODELO = modelo\n",
        "X_desafioqt = dados_desafioqt[coluna_features].to_numpy()\n",
        "X_desafioqt = scaler.transform(X_desafioqt)\n",
        "predicao_desafioqt = MODELO.predict(X_desafioqt)\n",
        "\n"
      ],
      "execution_count": 0,
      "outputs": []
    },
    {
      "cell_type": "code",
      "metadata": {
        "id": "SltkALw8roI1",
        "colab_type": "code",
        "colab": {}
      },
      "source": [
        "\n",
        "desafio_df = pd.DataFrame(dados_desafioqt.ID)\n",
        "desafio_df[coluna_label] = predicao_desafioqt\n",
        "\n",
        "#NÃO TROCAR O NOME DO ARQUIVO DE SAÍDA (PREDICAO_DESAFIO)\n",
        "desafio_df.to_csv('PREDICAO_DESAFIOQT_final.csv', index=False) \n",
        "files.download('PREDICAO_DESAFIOQT_final.csv')"
      ],
      "execution_count": 0,
      "outputs": []
    },
    {
      "cell_type": "code",
      "metadata": {
        "id": "4kfhWm8BO4BC",
        "colab_type": "code",
        "colab": {
          "base_uri": "https://localhost:8080/",
          "height": 204
        },
        "outputId": "216a6c9a-eb8e-4777-e376-c3e813de629a"
      },
      "source": [
        "\n",
        "dados= pd.read_csv('/content/PREDICAO_DESAFIOQT_final.csv')\n",
        "dados.head()\n",
        "\n",
        "\n"
      ],
      "execution_count": 41,
      "outputs": [
        {
          "output_type": "execute_result",
          "data": {
            "text/html": [
              "<div>\n",
              "<style scoped>\n",
              "    .dataframe tbody tr th:only-of-type {\n",
              "        vertical-align: middle;\n",
              "    }\n",
              "\n",
              "    .dataframe tbody tr th {\n",
              "        vertical-align: top;\n",
              "    }\n",
              "\n",
              "    .dataframe thead th {\n",
              "        text-align: right;\n",
              "    }\n",
              "</style>\n",
              "<table border=\"1\" class=\"dataframe\">\n",
              "  <thead>\n",
              "    <tr style=\"text-align: right;\">\n",
              "      <th></th>\n",
              "      <th>ID</th>\n",
              "      <th>NU_NOTA_LC</th>\n",
              "    </tr>\n",
              "  </thead>\n",
              "  <tbody>\n",
              "    <tr>\n",
              "      <th>0</th>\n",
              "      <td>0</td>\n",
              "      <td>502.993914</td>\n",
              "    </tr>\n",
              "    <tr>\n",
              "      <th>1</th>\n",
              "      <td>1</td>\n",
              "      <td>584.184501</td>\n",
              "    </tr>\n",
              "    <tr>\n",
              "      <th>2</th>\n",
              "      <td>2</td>\n",
              "      <td>515.279429</td>\n",
              "    </tr>\n",
              "    <tr>\n",
              "      <th>3</th>\n",
              "      <td>3</td>\n",
              "      <td>463.562315</td>\n",
              "    </tr>\n",
              "    <tr>\n",
              "      <th>4</th>\n",
              "      <td>4</td>\n",
              "      <td>521.820935</td>\n",
              "    </tr>\n",
              "  </tbody>\n",
              "</table>\n",
              "</div>"
            ],
            "text/plain": [
              "   ID  NU_NOTA_LC\n",
              "0   0  502.993914\n",
              "1   1  584.184501\n",
              "2   2  515.279429\n",
              "3   3  463.562315\n",
              "4   4  521.820935"
            ]
          },
          "metadata": {
            "tags": []
          },
          "execution_count": 41
        }
      ]
    },
    {
      "cell_type": "code",
      "metadata": {
        "id": "re04luz0dMo4",
        "colab_type": "code",
        "colab": {}
      },
      "source": [
        ""
      ],
      "execution_count": 0,
      "outputs": []
    },
    {
      "cell_type": "code",
      "metadata": {
        "id": "VebpsOyUfAhk",
        "colab_type": "code",
        "outputId": "8ff303d6-4203-4b2d-808b-c0116b9dedee",
        "colab": {
          "base_uri": "https://localhost:8080/",
          "height": 359
        }
      },
      "source": [
        ""
      ],
      "execution_count": 0,
      "outputs": [
        {
          "output_type": "execute_result",
          "data": {
            "text/html": [
              "<div>\n",
              "<style scoped>\n",
              "    .dataframe tbody tr th:only-of-type {\n",
              "        vertical-align: middle;\n",
              "    }\n",
              "\n",
              "    .dataframe tbody tr th {\n",
              "        vertical-align: top;\n",
              "    }\n",
              "\n",
              "    .dataframe thead th {\n",
              "        text-align: right;\n",
              "    }\n",
              "</style>\n",
              "<table border=\"1\" class=\"dataframe\">\n",
              "  <thead>\n",
              "    <tr style=\"text-align: right;\">\n",
              "      <th></th>\n",
              "      <th>ID</th>\n",
              "      <th>NU_NOTA_LC</th>\n",
              "    </tr>\n",
              "  </thead>\n",
              "  <tbody>\n",
              "    <tr>\n",
              "      <th>0</th>\n",
              "      <td>0</td>\n",
              "      <td>528.773482</td>\n",
              "    </tr>\n",
              "    <tr>\n",
              "      <th>1</th>\n",
              "      <td>1</td>\n",
              "      <td>528.773482</td>\n",
              "    </tr>\n",
              "    <tr>\n",
              "      <th>2</th>\n",
              "      <td>2</td>\n",
              "      <td>528.773482</td>\n",
              "    </tr>\n",
              "    <tr>\n",
              "      <th>3</th>\n",
              "      <td>3</td>\n",
              "      <td>528.773482</td>\n",
              "    </tr>\n",
              "    <tr>\n",
              "      <th>4</th>\n",
              "      <td>4</td>\n",
              "      <td>528.773482</td>\n",
              "    </tr>\n",
              "    <tr>\n",
              "      <th>5</th>\n",
              "      <td>5</td>\n",
              "      <td>528.773482</td>\n",
              "    </tr>\n",
              "    <tr>\n",
              "      <th>6</th>\n",
              "      <td>6</td>\n",
              "      <td>528.773482</td>\n",
              "    </tr>\n",
              "    <tr>\n",
              "      <th>7</th>\n",
              "      <td>7</td>\n",
              "      <td>528.773482</td>\n",
              "    </tr>\n",
              "    <tr>\n",
              "      <th>8</th>\n",
              "      <td>8</td>\n",
              "      <td>528.773482</td>\n",
              "    </tr>\n",
              "    <tr>\n",
              "      <th>9</th>\n",
              "      <td>9</td>\n",
              "      <td>528.773482</td>\n",
              "    </tr>\n",
              "  </tbody>\n",
              "</table>\n",
              "</div>"
            ],
            "text/plain": [
              "   ID  NU_NOTA_LC\n",
              "0   0  528.773482\n",
              "1   1  528.773482\n",
              "2   2  528.773482\n",
              "3   3  528.773482\n",
              "4   4  528.773482\n",
              "5   5  528.773482\n",
              "6   6  528.773482\n",
              "7   7  528.773482\n",
              "8   8  528.773482\n",
              "9   9  528.773482"
            ]
          },
          "metadata": {
            "tags": []
          },
          "execution_count": 33
        }
      ]
    }
  ]
}